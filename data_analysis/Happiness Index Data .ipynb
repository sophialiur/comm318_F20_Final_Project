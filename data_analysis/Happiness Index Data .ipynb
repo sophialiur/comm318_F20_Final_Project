{
 "cells": [
  {
   "cell_type": "markdown",
   "metadata": {},
   "source": [
    "# Analyzing Happiness Index Data\n",
    "\n",
    "----\n",
    "\n",
    "#### Summary\n",
    "In this notebook I will be working on 'happy_index.csv'. Something to note is that I wasn't able to find data from years before 2015, so I used the data from 2016, because I also have data from 2016 in the world_suicide file. I am interested in seeing whether there is a relationship between happiness and suicide rate. \n",
    "\n",
    "#### Key Questions\n",
    "* What countries perform better in the happiness index? Does the pattern look similar to that of the suicide rates ranking? \n",
    "* Is there a relationship between indicators of happiness and suicide rates? "
   ]
  },
  {
   "cell_type": "code",
   "execution_count": 80,
   "metadata": {},
   "outputs": [],
   "source": [
    "import pandas as pd\n",
    "import chardet\n",
    "import matplotlib.pyplot as plt\n",
    "import statsmodels.api as sm\n",
    "import statsmodels.formula.api as smf\n",
    "import seaborn as sns\n",
    "\n",
    "df1 = pd.read_csv('../data/Raw_data/happy_index.csv')\n",
    "world_total = pd.read_csv('../data/Cleaned_data/suicide_total.csv')\n",
    "\n"
   ]
  },
  {
   "cell_type": "markdown",
   "metadata": {},
   "source": [
    "#### Question 1: What countries are happier? \n",
    "\n",
    "* The data comes with a rank so I didn't have to do much cleaning\n",
    "* I also grouped the rows by their regions and took an average of all values for each region to compare them"
   ]
  },
  {
   "cell_type": "code",
   "execution_count": 81,
   "metadata": {},
   "outputs": [
    {
     "name": "stdout",
     "output_type": "stream",
     "text": [
      "       Country          Region  Happiness Rank  Happiness Score  \\\n",
      "0      Denmark  Western Europe               1            7.526   \n",
      "1  Switzerland  Western Europe               2            7.509   \n",
      "2      Iceland  Western Europe               3            7.501   \n",
      "3       Norway  Western Europe               4            7.498   \n",
      "4      Finland  Western Europe               5            7.413   \n",
      "\n",
      "   Lower Confidence Interval  Upper Confidence Interval  \\\n",
      "0                      7.460                      7.592   \n",
      "1                      7.428                      7.590   \n",
      "2                      7.333                      7.669   \n",
      "3                      7.421                      7.575   \n",
      "4                      7.351                      7.475   \n",
      "\n",
      "   Economy (GDP per Capita)   Family  Health (Life Expectancy)  Freedom  \\\n",
      "0                   1.44178  1.16374                   0.79504  0.57941   \n",
      "1                   1.52733  1.14524                   0.86303  0.58557   \n",
      "2                   1.42666  1.18326                   0.86733  0.56624   \n",
      "3                   1.57744  1.12690                   0.79579  0.59609   \n",
      "4                   1.40598  1.13464                   0.81091  0.57104   \n",
      "\n",
      "   Trust (Government Corruption)  Generosity  Dystopia Residual  rank  \n",
      "0                        0.44453     0.36171            2.73939     1  \n",
      "1                        0.41203     0.28083            2.69463     2  \n",
      "2                        0.14975     0.47678            2.83137     3  \n",
      "3                        0.35776     0.37895            2.66465     4  \n",
      "4                        0.41004     0.25492            2.82596     5  \n"
     ]
    },
    {
     "data": {
      "text/plain": [
       "Region\n",
       "Australia and New Zealand          7.323500\n",
       "North America                      7.254000\n",
       "Western Europe                     6.685667\n",
       "Latin America and Caribbean        6.101750\n",
       "Eastern Asia                       5.624167\n",
       "Middle East and Northern Africa    5.386053\n",
       "Central and Eastern Europe         5.370690\n",
       "Southeastern Asia                  5.338889\n",
       "Southern Asia                      4.563286\n",
       "Sub-Saharan Africa                 4.136421\n",
       "Name: Happiness Score, dtype: float64"
      ]
     },
     "execution_count": 81,
     "metadata": {},
     "output_type": "execute_result"
    }
   ],
   "source": [
    "df1=happy\n",
    "print(happy.head())\n",
    "\n",
    "#calculating happiness score by region\n",
    "happy_by_region=happy.groupby('Region')['Happiness Score'].mean()\n",
    "happy_by_region=happy_by_region.sort_values(ascending=False)\n",
    "happy_by_region"
   ]
  },
  {
   "cell_type": "markdown",
   "metadata": {},
   "source": [
    "#### Answer to Question 1\n",
    "According to this data, the happiest country in the world is Denmark, with a score of 7.526. The least happy country is Burundi, which is a country in Sub-Saharan Africa. Regionally Australia and New Zealand as well as  North American countries tend to have higher happiness scores. The happiest countries tend to be in Europe and America, while the not so happy countries tend to be in Asia and Africa. I also noticed that the happier countries tend to have higher GDPs, although this correlation is not the main interest of my research. "
   ]
  },
  {
   "cell_type": "markdown",
   "metadata": {},
   "source": [
    "#### Question 2: Looking for a relationship between happiness and suicide rate\n",
    "* Then I merged the cleaned world suicide rates data with the happiness index data\n",
    "* To examine whether there is a relationship between the suicide rates and any one of the variables provided in the happiness index data, I plotted them first and performed regression analysis on the ones that show some correlation"
   ]
  },
  {
   "cell_type": "code",
   "execution_count": 83,
   "metadata": {},
   "outputs": [
    {
     "data": {
      "text/html": [
       "<div>\n",
       "<style scoped>\n",
       "    .dataframe tbody tr th:only-of-type {\n",
       "        vertical-align: middle;\n",
       "    }\n",
       "\n",
       "    .dataframe tbody tr th {\n",
       "        vertical-align: top;\n",
       "    }\n",
       "\n",
       "    .dataframe thead th {\n",
       "        text-align: right;\n",
       "    }\n",
       "</style>\n",
       "<table border=\"1\" class=\"dataframe\">\n",
       "  <thead>\n",
       "    <tr style=\"text-align: right;\">\n",
       "      <th></th>\n",
       "      <th>Country</th>\n",
       "      <th>Region</th>\n",
       "      <th>Happiness Rank</th>\n",
       "      <th>Happiness Score</th>\n",
       "      <th>Lower Confidence Interval</th>\n",
       "      <th>Upper Confidence Interval</th>\n",
       "      <th>Economy (GDP per Capita)</th>\n",
       "      <th>Family</th>\n",
       "      <th>Health (Life Expectancy)</th>\n",
       "      <th>Freedom</th>\n",
       "      <th>Trust (Government Corruption)</th>\n",
       "      <th>Generosity</th>\n",
       "      <th>Dystopia Residual</th>\n",
       "      <th>rank</th>\n",
       "      <th>Sex</th>\n",
       "      <th>2016</th>\n",
       "      <th>2015</th>\n",
       "      <th>2010</th>\n",
       "      <th>2000</th>\n",
       "      <th>means</th>\n",
       "    </tr>\n",
       "  </thead>\n",
       "  <tbody>\n",
       "    <tr>\n",
       "      <th>0</th>\n",
       "      <td>Denmark</td>\n",
       "      <td>Western Europe</td>\n",
       "      <td>1</td>\n",
       "      <td>7.526</td>\n",
       "      <td>7.460</td>\n",
       "      <td>7.592</td>\n",
       "      <td>1.44178</td>\n",
       "      <td>1.16374</td>\n",
       "      <td>0.79504</td>\n",
       "      <td>0.57941</td>\n",
       "      <td>0.44453</td>\n",
       "      <td>0.36171</td>\n",
       "      <td>2.73939</td>\n",
       "      <td>1</td>\n",
       "      <td>Both sexes</td>\n",
       "      <td>9.2</td>\n",
       "      <td>8.6</td>\n",
       "      <td>9.3</td>\n",
       "      <td>12.7</td>\n",
       "      <td>10.400000</td>\n",
       "    </tr>\n",
       "    <tr>\n",
       "      <th>1</th>\n",
       "      <td>Switzerland</td>\n",
       "      <td>Western Europe</td>\n",
       "      <td>2</td>\n",
       "      <td>7.509</td>\n",
       "      <td>7.428</td>\n",
       "      <td>7.590</td>\n",
       "      <td>1.52733</td>\n",
       "      <td>1.14524</td>\n",
       "      <td>0.86303</td>\n",
       "      <td>0.58557</td>\n",
       "      <td>0.41203</td>\n",
       "      <td>0.28083</td>\n",
       "      <td>2.69463</td>\n",
       "      <td>2</td>\n",
       "      <td>Both sexes</td>\n",
       "      <td>11.3</td>\n",
       "      <td>11.4</td>\n",
       "      <td>11.3</td>\n",
       "      <td>16.8</td>\n",
       "      <td>13.133333</td>\n",
       "    </tr>\n",
       "    <tr>\n",
       "      <th>2</th>\n",
       "      <td>Iceland</td>\n",
       "      <td>Western Europe</td>\n",
       "      <td>3</td>\n",
       "      <td>7.501</td>\n",
       "      <td>7.333</td>\n",
       "      <td>7.669</td>\n",
       "      <td>1.42666</td>\n",
       "      <td>1.18326</td>\n",
       "      <td>0.86733</td>\n",
       "      <td>0.56624</td>\n",
       "      <td>0.14975</td>\n",
       "      <td>0.47678</td>\n",
       "      <td>2.83137</td>\n",
       "      <td>3</td>\n",
       "      <td>Both sexes</td>\n",
       "      <td>13.3</td>\n",
       "      <td>12.9</td>\n",
       "      <td>12.3</td>\n",
       "      <td>16.0</td>\n",
       "      <td>13.866667</td>\n",
       "    </tr>\n",
       "    <tr>\n",
       "      <th>3</th>\n",
       "      <td>Norway</td>\n",
       "      <td>Western Europe</td>\n",
       "      <td>4</td>\n",
       "      <td>7.498</td>\n",
       "      <td>7.421</td>\n",
       "      <td>7.575</td>\n",
       "      <td>1.57744</td>\n",
       "      <td>1.12690</td>\n",
       "      <td>0.79579</td>\n",
       "      <td>0.59609</td>\n",
       "      <td>0.35776</td>\n",
       "      <td>0.37895</td>\n",
       "      <td>2.66465</td>\n",
       "      <td>4</td>\n",
       "      <td>Both sexes</td>\n",
       "      <td>10.1</td>\n",
       "      <td>10.2</td>\n",
       "      <td>10.6</td>\n",
       "      <td>12.0</td>\n",
       "      <td>10.900000</td>\n",
       "    </tr>\n",
       "    <tr>\n",
       "      <th>4</th>\n",
       "      <td>Finland</td>\n",
       "      <td>Western Europe</td>\n",
       "      <td>5</td>\n",
       "      <td>7.413</td>\n",
       "      <td>7.351</td>\n",
       "      <td>7.475</td>\n",
       "      <td>1.40598</td>\n",
       "      <td>1.13464</td>\n",
       "      <td>0.81091</td>\n",
       "      <td>0.57104</td>\n",
       "      <td>0.41004</td>\n",
       "      <td>0.25492</td>\n",
       "      <td>2.82596</td>\n",
       "      <td>5</td>\n",
       "      <td>Both sexes</td>\n",
       "      <td>13.8</td>\n",
       "      <td>12.4</td>\n",
       "      <td>16.6</td>\n",
       "      <td>21.6</td>\n",
       "      <td>17.333333</td>\n",
       "    </tr>\n",
       "    <tr>\n",
       "      <th>...</th>\n",
       "      <td>...</td>\n",
       "      <td>...</td>\n",
       "      <td>...</td>\n",
       "      <td>...</td>\n",
       "      <td>...</td>\n",
       "      <td>...</td>\n",
       "      <td>...</td>\n",
       "      <td>...</td>\n",
       "      <td>...</td>\n",
       "      <td>...</td>\n",
       "      <td>...</td>\n",
       "      <td>...</td>\n",
       "      <td>...</td>\n",
       "      <td>...</td>\n",
       "      <td>...</td>\n",
       "      <td>...</td>\n",
       "      <td>...</td>\n",
       "      <td>...</td>\n",
       "      <td>...</td>\n",
       "      <td>...</td>\n",
       "    </tr>\n",
       "    <tr>\n",
       "      <th>132</th>\n",
       "      <td>Rwanda</td>\n",
       "      <td>Sub-Saharan Africa</td>\n",
       "      <td>152</td>\n",
       "      <td>3.515</td>\n",
       "      <td>3.444</td>\n",
       "      <td>3.586</td>\n",
       "      <td>0.32846</td>\n",
       "      <td>0.61586</td>\n",
       "      <td>0.31865</td>\n",
       "      <td>0.54320</td>\n",
       "      <td>0.50521</td>\n",
       "      <td>0.23552</td>\n",
       "      <td>0.96819</td>\n",
       "      <td>152</td>\n",
       "      <td>Both sexes</td>\n",
       "      <td>11.0</td>\n",
       "      <td>11.2</td>\n",
       "      <td>12.5</td>\n",
       "      <td>24.6</td>\n",
       "      <td>16.033333</td>\n",
       "    </tr>\n",
       "    <tr>\n",
       "      <th>133</th>\n",
       "      <td>Benin</td>\n",
       "      <td>Sub-Saharan Africa</td>\n",
       "      <td>153</td>\n",
       "      <td>3.484</td>\n",
       "      <td>3.404</td>\n",
       "      <td>3.564</td>\n",
       "      <td>0.39499</td>\n",
       "      <td>0.10419</td>\n",
       "      <td>0.21028</td>\n",
       "      <td>0.39747</td>\n",
       "      <td>0.06681</td>\n",
       "      <td>0.20180</td>\n",
       "      <td>2.10812</td>\n",
       "      <td>153</td>\n",
       "      <td>Both sexes</td>\n",
       "      <td>15.7</td>\n",
       "      <td>15.7</td>\n",
       "      <td>15.5</td>\n",
       "      <td>15.6</td>\n",
       "      <td>15.600000</td>\n",
       "    </tr>\n",
       "    <tr>\n",
       "      <th>134</th>\n",
       "      <td>Afghanistan</td>\n",
       "      <td>Southern Asia</td>\n",
       "      <td>154</td>\n",
       "      <td>3.360</td>\n",
       "      <td>3.288</td>\n",
       "      <td>3.432</td>\n",
       "      <td>0.38227</td>\n",
       "      <td>0.11037</td>\n",
       "      <td>0.17344</td>\n",
       "      <td>0.16430</td>\n",
       "      <td>0.07112</td>\n",
       "      <td>0.31268</td>\n",
       "      <td>2.14558</td>\n",
       "      <td>154</td>\n",
       "      <td>Both sexes</td>\n",
       "      <td>6.4</td>\n",
       "      <td>6.6</td>\n",
       "      <td>7.4</td>\n",
       "      <td>8.1</td>\n",
       "      <td>7.300000</td>\n",
       "    </tr>\n",
       "    <tr>\n",
       "      <th>135</th>\n",
       "      <td>Togo</td>\n",
       "      <td>Sub-Saharan Africa</td>\n",
       "      <td>155</td>\n",
       "      <td>3.303</td>\n",
       "      <td>3.192</td>\n",
       "      <td>3.414</td>\n",
       "      <td>0.28123</td>\n",
       "      <td>0.00000</td>\n",
       "      <td>0.24811</td>\n",
       "      <td>0.34678</td>\n",
       "      <td>0.11587</td>\n",
       "      <td>0.17517</td>\n",
       "      <td>2.13540</td>\n",
       "      <td>155</td>\n",
       "      <td>Both sexes</td>\n",
       "      <td>16.6</td>\n",
       "      <td>16.3</td>\n",
       "      <td>16.9</td>\n",
       "      <td>17.2</td>\n",
       "      <td>16.900000</td>\n",
       "    </tr>\n",
       "    <tr>\n",
       "      <th>136</th>\n",
       "      <td>Burundi</td>\n",
       "      <td>Sub-Saharan Africa</td>\n",
       "      <td>157</td>\n",
       "      <td>2.905</td>\n",
       "      <td>2.732</td>\n",
       "      <td>3.078</td>\n",
       "      <td>0.06831</td>\n",
       "      <td>0.23442</td>\n",
       "      <td>0.15747</td>\n",
       "      <td>0.04320</td>\n",
       "      <td>0.09419</td>\n",
       "      <td>0.20290</td>\n",
       "      <td>2.10404</td>\n",
       "      <td>157</td>\n",
       "      <td>Both sexes</td>\n",
       "      <td>15.0</td>\n",
       "      <td>14.8</td>\n",
       "      <td>14.9</td>\n",
       "      <td>12.9</td>\n",
       "      <td>14.266667</td>\n",
       "    </tr>\n",
       "  </tbody>\n",
       "</table>\n",
       "<p>137 rows × 20 columns</p>\n",
       "</div>"
      ],
      "text/plain": [
       "         Country              Region  Happiness Rank  Happiness Score  \\\n",
       "0        Denmark      Western Europe               1            7.526   \n",
       "1    Switzerland      Western Europe               2            7.509   \n",
       "2        Iceland      Western Europe               3            7.501   \n",
       "3         Norway      Western Europe               4            7.498   \n",
       "4        Finland      Western Europe               5            7.413   \n",
       "..           ...                 ...             ...              ...   \n",
       "132       Rwanda  Sub-Saharan Africa             152            3.515   \n",
       "133        Benin  Sub-Saharan Africa             153            3.484   \n",
       "134  Afghanistan       Southern Asia             154            3.360   \n",
       "135         Togo  Sub-Saharan Africa             155            3.303   \n",
       "136      Burundi  Sub-Saharan Africa             157            2.905   \n",
       "\n",
       "     Lower Confidence Interval  Upper Confidence Interval  \\\n",
       "0                        7.460                      7.592   \n",
       "1                        7.428                      7.590   \n",
       "2                        7.333                      7.669   \n",
       "3                        7.421                      7.575   \n",
       "4                        7.351                      7.475   \n",
       "..                         ...                        ...   \n",
       "132                      3.444                      3.586   \n",
       "133                      3.404                      3.564   \n",
       "134                      3.288                      3.432   \n",
       "135                      3.192                      3.414   \n",
       "136                      2.732                      3.078   \n",
       "\n",
       "     Economy (GDP per Capita)   Family  Health (Life Expectancy)  Freedom  \\\n",
       "0                     1.44178  1.16374                   0.79504  0.57941   \n",
       "1                     1.52733  1.14524                   0.86303  0.58557   \n",
       "2                     1.42666  1.18326                   0.86733  0.56624   \n",
       "3                     1.57744  1.12690                   0.79579  0.59609   \n",
       "4                     1.40598  1.13464                   0.81091  0.57104   \n",
       "..                        ...      ...                       ...      ...   \n",
       "132                   0.32846  0.61586                   0.31865  0.54320   \n",
       "133                   0.39499  0.10419                   0.21028  0.39747   \n",
       "134                   0.38227  0.11037                   0.17344  0.16430   \n",
       "135                   0.28123  0.00000                   0.24811  0.34678   \n",
       "136                   0.06831  0.23442                   0.15747  0.04320   \n",
       "\n",
       "     Trust (Government Corruption)  Generosity  Dystopia Residual  rank  \\\n",
       "0                          0.44453     0.36171            2.73939     1   \n",
       "1                          0.41203     0.28083            2.69463     2   \n",
       "2                          0.14975     0.47678            2.83137     3   \n",
       "3                          0.35776     0.37895            2.66465     4   \n",
       "4                          0.41004     0.25492            2.82596     5   \n",
       "..                             ...         ...                ...   ...   \n",
       "132                        0.50521     0.23552            0.96819   152   \n",
       "133                        0.06681     0.20180            2.10812   153   \n",
       "134                        0.07112     0.31268            2.14558   154   \n",
       "135                        0.11587     0.17517            2.13540   155   \n",
       "136                        0.09419     0.20290            2.10404   157   \n",
       "\n",
       "            Sex  2016  2015  2010  2000      means  \n",
       "0    Both sexes   9.2   8.6   9.3  12.7  10.400000  \n",
       "1    Both sexes  11.3  11.4  11.3  16.8  13.133333  \n",
       "2    Both sexes  13.3  12.9  12.3  16.0  13.866667  \n",
       "3    Both sexes  10.1  10.2  10.6  12.0  10.900000  \n",
       "4    Both sexes  13.8  12.4  16.6  21.6  17.333333  \n",
       "..          ...   ...   ...   ...   ...        ...  \n",
       "132  Both sexes  11.0  11.2  12.5  24.6  16.033333  \n",
       "133  Both sexes  15.7  15.7  15.5  15.6  15.600000  \n",
       "134  Both sexes   6.4   6.6   7.4   8.1   7.300000  \n",
       "135  Both sexes  16.6  16.3  16.9  17.2  16.900000  \n",
       "136  Both sexes  15.0  14.8  14.9  12.9  14.266667  \n",
       "\n",
       "[137 rows x 20 columns]"
      ]
     },
     "execution_count": 83,
     "metadata": {},
     "output_type": "execute_result"
    }
   ],
   "source": [
    "merged = pd.merge(left=happy, right=world_total, left_on='Country', right_on='Country')\n",
    "merged\n",
    "\n"
   ]
  },
  {
   "cell_type": "code",
   "execution_count": 30,
   "metadata": {},
   "outputs": [
    {
     "data": {
      "text/plain": [
       "Text(0.5, 1.0, 'Assocation between happiness and suicide rate')"
      ]
     },
     "execution_count": 30,
     "metadata": {},
     "output_type": "execute_result"
    },
    {
     "data": {
      "image/png": "[encoded data removed]",
      "text/plain": [
       "<Figure size 360x360 with 1 Axes>"
      ]
     },
     "metadata": {
      "needs_background": "light"
     },
     "output_type": "display_data"
    }
   ],
   "source": [
    "sns.lmplot(x='Happiness Rank', y='2016', data=merged)\n",
    "plt.title('Assocation between happiness and suicide rate')"
   ]
  },
  {
   "cell_type": "code",
   "execution_count": 31,
   "metadata": {},
   "outputs": [
    {
     "data": {
      "text/plain": [
       "<seaborn.axisgrid.FacetGrid at 0x7f8a30325160>"
      ]
     },
     "execution_count": 31,
     "metadata": {},
     "output_type": "execute_result"
    },
    {
     "data": {
      "image/png": "[encoded data removed]",
      "text/plain": [
       "<Figure size 360x360 with 1 Axes>"
      ]
     },
     "metadata": {
      "needs_background": "light"
     },
     "output_type": "display_data"
    }
   ],
   "source": [
    "sns.lmplot(x='Happiness Score', y='2016', data=merged)"
   ]
  },
  {
   "cell_type": "code",
   "execution_count": 74,
   "metadata": {},
   "outputs": [
    {
     "name": "stdout",
     "output_type": "stream",
     "text": [
      "                            OLS Regression Results                            \n",
      "==============================================================================\n",
      "Dep. Variable:              Q(\"2016\")   R-squared:                       0.005\n",
      "Model:                            OLS   Adj. R-squared:                 -0.002\n",
      "Method:                 Least Squares   F-statistic:                    0.6731\n",
      "Date:                Wed, 23 Dec 2020   Prob (F-statistic):              0.413\n",
      "Time:                        00:44:23   Log-Likelihood:                -413.85\n",
      "No. Observations:                 137   AIC:                             831.7\n",
      "Df Residuals:                     135   BIC:                             837.5\n",
      "Df Model:                           1                                         \n",
      "Covariance Type:            nonrobust                                         \n",
      "==============================================================================\n",
      "                 coef    std err          t      P>|t|      [0.025      0.975]\n",
      "------------------------------------------------------------------------------\n",
      "Intercept     11.4665      2.048      5.600      0.000       7.417      15.516\n",
      "score         -0.3035      0.370     -0.820      0.413      -1.035       0.428\n",
      "==============================================================================\n",
      "Omnibus:                       18.359   Durbin-Watson:                   1.690\n",
      "Prob(Omnibus):                  0.000   Jarque-Bera (JB):               21.378\n",
      "Skew:                           0.867   Prob(JB):                     2.28e-05\n",
      "Kurtosis:                       3.860   Cond. No.                         27.4\n",
      "==============================================================================\n",
      "\n",
      "Notes:\n",
      "[1] Standard Errors assume that the covariance matrix of the errors is correctly specified.\n"
     ]
    }
   ],
   "source": [
    "merged=merged.rename(columns={\"Happiness Score\": \"score\"})\n",
    "m = smf.ols(formula= 'Q(\"2016\") ~ score', data=merged)\n",
    "res = m.fit()\n",
    "print(res.summary())"
   ]
  },
  {
   "cell_type": "code",
   "execution_count": 32,
   "metadata": {},
   "outputs": [
    {
     "data": {
      "text/plain": [
       "<seaborn.axisgrid.FacetGrid at 0x7f8a146898d0>"
      ]
     },
     "execution_count": 32,
     "metadata": {},
     "output_type": "execute_result"
    },
    {
     "data": {
      "image/png": "[encoded data removed]",
      "text/plain": [
       "<Figure size 360x360 with 1 Axes>"
      ]
     },
     "metadata": {
      "needs_background": "light"
     },
     "output_type": "display_data"
    }
   ],
   "source": [
    "sns.lmplot(x='Freedom', y='2016', data=merged)"
   ]
  },
  {
   "cell_type": "code",
   "execution_count": 33,
   "metadata": {},
   "outputs": [
    {
     "data": {
      "text/plain": [
       "<seaborn.axisgrid.FacetGrid at 0x7f8a303c5eb8>"
      ]
     },
     "execution_count": 33,
     "metadata": {},
     "output_type": "execute_result"
    },
    {
     "data": {
      "image/png": "[encoded data removed]",
      "text/plain": [
       "<Figure size 360x360 with 1 Axes>"
      ]
     },
     "metadata": {
      "needs_background": "light"
     },
     "output_type": "display_data"
    }
   ],
   "source": [
    "sns.lmplot(x='Health (Life Expectancy)', y='2016', data=merged)"
   ]
  },
  {
   "cell_type": "code",
   "execution_count": 66,
   "metadata": {},
   "outputs": [
    {
     "name": "stdout",
     "output_type": "stream",
     "text": [
      "                            OLS Regression Results                            \n",
      "==============================================================================\n",
      "Dep. Variable:              Q(\"2016\")   R-squared:                       0.033\n",
      "Model:                            OLS   Adj. R-squared:                  0.026\n",
      "Method:                 Least Squares   F-statistic:                     4.560\n",
      "Date:                Wed, 23 Dec 2020   Prob (F-statistic):             0.0345\n",
      "Time:                        00:39:18   Log-Likelihood:                -411.92\n",
      "No. Observations:                 137   AIC:                             827.8\n",
      "Df Residuals:                     135   BIC:                             833.7\n",
      "Df Model:                           1                                         \n",
      "Covariance Type:            nonrobust                                         \n",
      "==============================================================================\n",
      "                 coef    std err          t      P>|t|      [0.025      0.975]\n",
      "------------------------------------------------------------------------------\n",
      "Intercept     12.0177      1.110     10.822      0.000       9.822      14.214\n",
      "health        -3.9283      1.840     -2.136      0.035      -7.566      -0.290\n",
      "==============================================================================\n",
      "Omnibus:                       18.653   Durbin-Watson:                   1.694\n",
      "Prob(Omnibus):                  0.000   Jarque-Bera (JB):               21.993\n",
      "Skew:                           0.863   Prob(JB):                     1.68e-05\n",
      "Kurtosis:                       3.936   Cond. No.                         5.79\n",
      "==============================================================================\n",
      "\n",
      "Notes:\n",
      "[1] Standard Errors assume that the covariance matrix of the errors is correctly specified.\n"
     ]
    }
   ],
   "source": [
    "merged=merged.rename(columns={\"Health (Life Expectancy)\": \"health\"})\n",
    "m1 = smf.ols(formula= 'Q(\"2016\") ~ health', data=merged)\n",
    "res = m1.fit()\n",
    "print(res.summary())"
   ]
  },
  {
   "cell_type": "code",
   "execution_count": 72,
   "metadata": {},
   "outputs": [
    {
     "data": {
      "text/plain": [
       "<seaborn.axisgrid.FacetGrid at 0x7f89eb1d53c8>"
      ]
     },
     "execution_count": 72,
     "metadata": {},
     "output_type": "execute_result"
    },
    {
     "data": {
      "image/png": "[encoded data removed]",
      "text/plain": [
       "<Figure size 360x360 with 1 Axes>"
      ]
     },
     "metadata": {
      "needs_background": "light"
     },
     "output_type": "display_data"
    }
   ],
   "source": [
    "sns.lmplot(x='Family', y='2016', data=merged)"
   ]
  },
  {
   "cell_type": "code",
   "execution_count": 68,
   "metadata": {},
   "outputs": [
    {
     "name": "stdout",
     "output_type": "stream",
     "text": [
      "                            OLS Regression Results                            \n",
      "==============================================================================\n",
      "Dep. Variable:              Q(\"2016\")   R-squared:                       0.015\n",
      "Model:                            OLS   Adj. R-squared:                  0.008\n",
      "Method:                 Least Squares   F-statistic:                     2.113\n",
      "Date:                Wed, 23 Dec 2020   Prob (F-statistic):              0.148\n",
      "Time:                        00:40:42   Log-Likelihood:                -413.13\n",
      "No. Observations:                 137   AIC:                             830.3\n",
      "Df Residuals:                     135   BIC:                             836.1\n",
      "Df Model:                           1                                         \n",
      "Covariance Type:            nonrobust                                         \n",
      "==============================================================================\n",
      "                 coef    std err          t      P>|t|      [0.025      0.975]\n",
      "------------------------------------------------------------------------------\n",
      "Intercept      7.9978      1.326      6.033      0.000       5.376      10.620\n",
      "Family         2.2786      1.568      1.454      0.148      -0.821       5.379\n",
      "==============================================================================\n",
      "Omnibus:                       17.236   Durbin-Watson:                   1.627\n",
      "Prob(Omnibus):                  0.000   Jarque-Bera (JB):               19.535\n",
      "Skew:                           0.860   Prob(JB):                     5.73e-05\n",
      "Kurtosis:                       3.679   Cond. No.                         6.17\n",
      "==============================================================================\n",
      "\n",
      "Notes:\n",
      "[1] Standard Errors assume that the covariance matrix of the errors is correctly specified.\n"
     ]
    }
   ],
   "source": [
    "m2 = smf.ols(formula= 'Q(\"2016\") ~ Family', data=merged)\n",
    "res = m2.fit()\n",
    "print(res.summary())"
   ]
  },
  {
   "cell_type": "markdown",
   "metadata": {},
   "source": [
    "#### Answer to Question 2\n",
    "Happiness score does not seem to be a good predictor for suicide rate. The relationship is minimal and the regression model has a poor fit. The variable with the strongest correlation seem to be life expectancy and suicide rate: the higher the life expectancy, the lower the suicide rate, which is interesting. I was more surprised to see a positive correlation between family (an indicator for social support) and suicide rate, though the correlation doesn't seem very strong. "
   ]
  },
  {
   "cell_type": "code",
   "execution_count": 42,
   "metadata": {},
   "outputs": [],
   "source": [
    "#saving the region labels for later use\n",
    "happy[['Country', 'Region']].to_csv('../data/country_to_region.csv', index=False)"
   ]
  }
 ],
 "metadata": {
  "kernelspec": {
   "display_name": "Python 3",
   "language": "python",
   "name": "python3"
  },
  "language_info": {
   "codemirror_mode": {
    "name": "ipython",
    "version": 3
   },
   "file_extension": ".py",
   "mimetype": "text/x-python",
   "name": "python",
   "nbconvert_exporter": "python",
   "pygments_lexer": "ipython3",
   "version": "3.7.3"
  }
 },
 "nbformat": 4,
 "nbformat_minor": 2
}
